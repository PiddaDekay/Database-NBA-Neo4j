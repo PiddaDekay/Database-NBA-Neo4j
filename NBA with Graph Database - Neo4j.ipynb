{
 "cells": [
  {
   "cell_type": "markdown",
   "metadata": {},
   "source": [
    "# NBA"
   ]
  },
  {
   "cell_type": "markdown",
   "metadata": {},
   "source": [
    "By Mingfei Ma"
   ]
  },
  {
   "cell_type": "code",
   "execution_count": 1,
   "metadata": {},
   "outputs": [],
   "source": [
    "from py2neo import Graph\n",
    "from py2neo import Node\n",
    "from py2neo import Relationship\n",
    "from neo4jrestclient.client import GraphDatabase"
   ]
  },
  {
   "cell_type": "markdown",
   "metadata": {},
   "source": [
    "### Five Business questions"
   ]
  },
  {
   "cell_type": "markdown",
   "metadata": {},
   "source": [
    "1. Which team has the most number of championships\n",
    "2. Average salary of coach\n",
    "3. Who has the highest FGP in his career\n",
    "4. Who is the youngest player drafted\n",
    "5. Coach contribution by salary, ws and ls ratio"
   ]
  },
  {
   "cell_type": "code",
   "execution_count": 2,
   "metadata": {},
   "outputs": [],
   "source": [
    "graph = Graph(\"http://localhost:7474/browser/\", user=\"neo4j\", password=\"abcde\")"
   ]
  },
  {
   "cell_type": "markdown",
   "metadata": {},
   "source": [
    "### Creating nodes with contents"
   ]
  },
  {
   "cell_type": "markdown",
   "metadata": {},
   "source": [
    "1. team(location,number of championships,found, conference,salary)\n",
    "2. coach(name, year coaching, salary, ws and ls, ratio, n of champs)\n",
    "3. player(name, age, position, year drafted, salary, n of allstar games, FGP, n of game play,)"
   ]
  },
  {
   "cell_type": "markdown",
   "metadata": {},
   "source": [
    "last championships"
   ]
  },
  {
   "cell_type": "code",
   "execution_count": 3,
   "metadata": {},
   "outputs": [],
   "source": [
    "last_six_champs = Node(\"NBA\",name = \"last championships\")\n",
    "\n",
    "Los_Angel_Lakers      = Node(\"Team\", name=\"LA Lakers\",             Arena=\"STAPLES Center\",             n_of_champs=17,found_year=1948, conference=\"west\",salary=138685077)\n",
    "Toronto_Raptors       = Node(\"Team\", name=\"Toronto Raptors\",       Arena=\"Amalie Arena\",               n_of_champs=1,found_year=1995, conference=\"east\",salary=127769151)\n",
    "Golden_State_Warriors = Node(\"Team\", name=\"Golden State Warriors\", Arena=\"Chase Center\",               n_of_champs=6,found_year=1946, conference=\"west\",salary=174422319)\n",
    "Cleveland_Cavaliers   = Node(\"Team\", name=\"Cleveland Cavaliers\",   Arena=\"Rocket Mortgage FieldHouse\", n_of_champs=1,found_year=1970, conference=\"east\",salary=131413886)\n",
    "San_Antonio_Spurs     = Node(\"Team\", name=\"San Antonio Spurs\",     Arena=\"AT&T Center\",                n_of_champs=5,found_year=1976, conference=\"west\",salary=132518125)"
   ]
  },
  {
   "cell_type": "code",
   "execution_count": 4,
   "metadata": {},
   "outputs": [],
   "source": [
    "graph.create(last_six_champs)"
   ]
  },
  {
   "cell_type": "code",
   "execution_count": 5,
   "metadata": {},
   "outputs": [],
   "source": [
    "graph.create(Los_Angel_Lakers|Toronto_Raptors|Golden_State_Warriors|Cleveland_Cavaliers|San_Antonio_Spurs)"
   ]
  },
  {
   "cell_type": "markdown",
   "metadata": {},
   "source": [
    "5 Coaches of 5 teams"
   ]
  },
  {
   "cell_type": "code",
   "execution_count": 6,
   "metadata": {},
   "outputs": [],
   "source": [
    "C_Lakers      = Node(\"Coach\", name=\"Frank Vogel\", year_coaching=2019,salary=4000000,w_l =71/(25+71),n_of_champs=2)\n",
    "C_Raptors       = Node(\"Coach\", name=\"Nick Nurse\", year_coaching=2018,salary=8000000,w_l =122/(56+122),n_of_champs=1)\n",
    "C_Warriors      = Node(\"Coach\", name=\"Steve Kerr\", year_coaching=2014,salary=5000000,w_l =350/(150+350),n_of_champs=3)\n",
    "C_Cavaliers      = Node(\"Coach\", name=\"J.B.Bickerstaff\", year_coaching=2019,salary=2500000,w_l =36/(15+36),n_of_champs=0)\n",
    "C_Spurs     = Node(\"Coach\", name=\"Gregg Popovich\", year_coaching=1996,salary=11000000,w_l =1291/(625+1291),n_of_champs=5)"
   ]
  },
  {
   "cell_type": "code",
   "execution_count": 7,
   "metadata": {},
   "outputs": [],
   "source": [
    "graph.create(C_Lakers|C_Raptors|C_Warriors|C_Cavaliers|C_Spurs)"
   ]
  },
  {
   "cell_type": "markdown",
   "metadata": {},
   "source": [
    "5 starting lineups for each team"
   ]
  },
  {
   "cell_type": "code",
   "execution_count": 8,
   "metadata": {},
   "outputs": [],
   "source": [
    "#For Los_Angel_Lakers\n",
    "LeBron_James    = Node(\"Player\", name=\"LeBron James\",    age=36,year_drafted = 2003,position = \"SF\",salary_Millions=39.2 ,n_of_allstar=16,FGP=49.7,n_of_game_played=25)\n",
    "Anthony_Davis   = Node(\"Player\", name=\"Anthony Davis\",   age=27,year_drafted =2012,position = \"PF\",salary_Millions=27.09,n_of_allstar=7,FGP=53,n_of_game_played=21)\n",
    "Dennis_Schroder = Node(\"Player\", name=\"Dennis Schroder\", age=27,year_drafted =2013,position = \"PG\",salary_Millions=15.5 ,n_of_allstar=0,FGP=44,n_of_game_played=25)\n",
    "Montrezl_Harrell= Node(\"Player\", name=\"Montrezl Harrell\",age=27,year_drafted =2015,position = \"C\" ,salary_Millions=6    ,n_of_allstar=0,FGP=64.2,n_of_game_played=25)\n",
    "Kyle_Kuzma      = Node(\"Player\", name=\"Kyle Kuzma\",      age=25,year_drafted =2017,position = \"SF\",salary_Millions=13   ,n_of_allstar=1,FGP=43,n_of_game_played=25)\n",
    "\n",
    "#For Golden_State_Warriors\n",
    "Stephen_Curry   = Node(\"Player\", name=\"Stephen Curry\",  age=32,year_drafted =2009,position = \"PG\",salary_Millions=40.23 ,n_of_allstar=6,FGP=48.7,n_of_game_played=25)\n",
    "Andrew_Wiggins  = Node(\"Player\", name=\"Andrew Wiggins\", age=25,year_drafted =2014,position = \"SF\",salary_Millions=29.54 ,n_of_allstar=0,FGP=46.4,n_of_game_played=25)\n",
    "Kelly_Oubre_Jr = Node(\"Player\", name=\"Kelly Oubre Jr.\",age=25,year_drafted =2015,position = \"SG\",salary_Millions=14.42 ,n_of_allstar=0,FGP=39.7,n_of_game_played=25)\n",
    "James_Wiseman   = Node(\"Player\", name=\"James Wiseman\",  age=19,year_drafted =2020,position = \"C\" ,salary_Millions=8.73  ,n_of_allstar=0,FGP=50.3,n_of_game_played=20)\n",
    "Eric_Paschall   = Node(\"Player\", name=\"Eric Paschall\",  age=24,year_drafted =2019,position = \"PF\",salary_Millions=4.2   ,n_of_allstar=0,FGP=49.4,n_of_game_played=22)\n",
    "\n",
    "#For Toronto_Raptors\n",
    "Fred_VanVleet     = Node(\"Player\", name=\"Fred VanVleet\", age=26,year_drafted =2016,position = \"SG\",salary_Millions=21.25 ,n_of_allstar=0,FGP=41.4,n_of_game_played=24)\n",
    "Pascal_Siakam     = Node(\"Player\", name=\"Pascal Siakam\", age=26,year_drafted =2016,position = \"PF\",salary_Millions=29    ,n_of_allstar=0,FGP=46.2,n_of_game_played=21)\n",
    "Kyle_Lowry        = Node(\"Player\", name=\"Kyle Lowry\",    age=34,year_drafted =2006,position = \"PG\",salary_Millions=33.3  ,n_of_allstar=6,FGP=42.6,n_of_game_played=21)\n",
    "Norman_Powell     = Node(\"Player\", name=\"Norman Powell\", age=27,year_drafted =2015,position = \"SG\",salary_Millions=10.87 ,n_of_allstar=0,FGP=44.9,n_of_game_played=22)\n",
    "OG_Anunoby        = Node(\"Player\", name=\"OG Anunoby\",    age=23,year_drafted =2017,position = \"SF\",salary_Millions=3.872 ,n_of_allstar=0,FGP=48.6,n_of_game_played=17)\n",
    "\n",
    "#For San_Antonio_Spurs\n",
    "DeMar_DeRozan     = Node(\"Player\", name=\"DeMar DeRozan\",     age=31,year_drafted =2009,position = \"SF\",salary_Millions=26.54,n_of_allstar=4,FGP=48.6,n_of_game_played=23)\n",
    "Dejounte_Murray   = Node(\"Player\", name=\"Dejounte Murray\",   age=24,year_drafted =2016,position = \"PG\",salary_Millions=2.322,n_of_allstar=0,FGP=44.2,n_of_game_played=25)\n",
    "Keldon_Johnson    = Node(\"Player\", name=\"Keldon Johnson\",    age=21,year_drafted =2019,position = \"SF\",salary_Millions=2.05,n_of_allstar=0,FGP=45.6,n_of_game_played=25)\n",
    "LaMarcus_Aldridge = Node(\"Player\", name=\"LaMarcus Aldridge\", age=35,year_drafted =2006,position = \"C\" ,salary_Millions=24,n_of_allstar=5,FGP=47.6,n_of_game_played=18)\n",
    "Patty_Mills       = Node(\"Player\", name=\"Patty Mills\",       age=32,year_drafted =2009,position = \"SF\",salary_Millions=1.085,n_of_allstar=0,FGP=44.7,n_of_game_played=25)\n",
    "\n",
    "#For Cleveland_Cavaliers\n",
    "Collin_Sexton     = Node(\"Player\", name=\"Collin Sexton\",  age=22,year_drafted =2018,position = \"PG\",salary_Millions=4.99,n_of_allstar=0,FGP=49.4,n_of_game_played=20)\n",
    "Andre_Drummond    = Node(\"Player\", name=\"Andre Drummond\", age=27,year_drafted =2012,position = \"C\" ,salary_Millions=22.12,n_of_allstar=0,FGP=48.1,n_of_game_played=23)\n",
    "Darius_Garland    = Node(\"Player\", name=\"Darius Garland\", age=21,year_drafted =2019,position = \"PG\",salary_Millions=6.72,n_of_allstar=0,FGP=45.5,n_of_game_played=17)\n",
    "Jarrett_Allen     = Node(\"Player\", name=\"Jarrett Allen\",  age=22,year_drafted =2017,position = \"C\" ,salary_Millions=3.91,n_of_allstar=0,FGP=66.3,n_of_game_played=12)\n",
    "Cedi_Osman        = Node(\"Player\", name=\"Cedi Osman\",     age=25,year_drafted =2015,position = \"SF\",salary_Millions=8.75,n_of_allstar=0,FGP=37.9,n_of_game_played=25)"
   ]
  },
  {
   "cell_type": "code",
   "execution_count": 9,
   "metadata": {},
   "outputs": [],
   "source": [
    "graph.create(LeBron_James|Anthony_Davis|Dennis_Schroder|Montrezl_Harrell|Kyle_Kuzma\\\n",
    "            |Stephen_Curry|Andrew_Wiggins|Kelly_Oubre_Jr|James_Wiseman|Eric_Paschall\\\n",
    "            |Fred_VanVleet|Pascal_Siakam|Kyle_Lowry|Norman_Powell|OG_Anunoby\\\n",
    "            |DeMar_DeRozan|Dejounte_Murray|Keldon_Johnson|LaMarcus_Aldridge|Patty_Mills\\\n",
    "            |Collin_Sexton|Andre_Drummond|Darius_Garland|Jarrett_Allen|Cedi_Osman)"
   ]
  },
  {
   "cell_type": "markdown",
   "metadata": {},
   "source": [
    "### Connecting relationships"
   ]
  },
  {
   "cell_type": "code",
   "execution_count": 10,
   "metadata": {},
   "outputs": [],
   "source": [
    "# Coach to Team\n",
    "graph.create(Relationship(C_Lakers, \"Coaching\", Los_Angel_Lakers))\n",
    "graph.create(Relationship(C_Raptors, \"Coaching\", Toronto_Raptors))\n",
    "graph.create(Relationship(C_Warriors, \"Coaching\", Golden_State_Warriors))\n",
    "graph.create(Relationship(C_Cavaliers, \"Coaching\", Cleveland_Cavaliers))\n",
    "graph.create(Relationship(C_Spurs, \"Coaching\", San_Antonio_Spurs))\n",
    "\n",
    "# Team to Players\n",
    "graph.create(Relationship(LeBron_James, \"Playing_for\", Los_Angel_Lakers))\n",
    "graph.create(Relationship(Anthony_Davis, \"Playing_for\", Los_Angel_Lakers))\n",
    "graph.create(Relationship(Dennis_Schroder, \"Playing_for\", Los_Angel_Lakers))\n",
    "graph.create(Relationship(Montrezl_Harrell, \"Playing_for\", Los_Angel_Lakers))\n",
    "graph.create(Relationship(Kyle_Kuzma, \"Playing_for\", Los_Angel_Lakers))\n",
    "\n",
    "graph.create(Relationship(Stephen_Curry, \"Playing_for\", Golden_State_Warriors))\n",
    "graph.create(Relationship(Andrew_Wiggins, \"Playing_for\", Golden_State_Warriors))\n",
    "graph.create(Relationship(Kelly_Oubre_Jr, \"Playing_for\", Golden_State_Warriors))\n",
    "graph.create(Relationship(James_Wiseman, \"Playing_for\", Golden_State_Warriors))\n",
    "graph.create(Relationship(Eric_Paschall, \"Playing_for\", Golden_State_Warriors))\n",
    "\n",
    "graph.create(Relationship(Fred_VanVleet, \"Playing_for\", Toronto_Raptors))\n",
    "graph.create(Relationship(Pascal_Siakam, \"Playing_for\", Toronto_Raptors))\n",
    "graph.create(Relationship(Kyle_Lowry, \"Playing_for\", Toronto_Raptors))\n",
    "graph.create(Relationship(Norman_Powell, \"Playing_for\", Toronto_Raptors))\n",
    "graph.create(Relationship(OG_Anunoby, \"Playing_for\", Toronto_Raptors))\n",
    "\n",
    "graph.create(Relationship(DeMar_DeRozan, \"Playing_for\", San_Antonio_Spurs))\n",
    "graph.create(Relationship(Dejounte_Murray, \"Playing_for\", San_Antonio_Spurs))\n",
    "graph.create(Relationship(Keldon_Johnson, \"Playing_for\", San_Antonio_Spurs))\n",
    "graph.create(Relationship(LaMarcus_Aldridge, \"Playing_for\", San_Antonio_Spurs))\n",
    "graph.create(Relationship(Patty_Mills, \"Playing_for\", San_Antonio_Spurs))\n",
    "\n",
    "graph.create(Relationship(Collin_Sexton, \"Playing_for\", Cleveland_Cavaliers))\n",
    "graph.create(Relationship(Andre_Drummond, \"Playing_for\", Cleveland_Cavaliers))\n",
    "graph.create(Relationship(Darius_Garland, \"Playing_for\", Cleveland_Cavaliers))\n",
    "graph.create(Relationship(Jarrett_Allen, \"Playing_for\", Cleveland_Cavaliers))\n",
    "graph.create(Relationship(Cedi_Osman, \"Playing_for\", Cleveland_Cavaliers))\n",
    "\n",
    "\n",
    "graph.create(Relationship(Cleveland_Cavaliers, \"2016_championship_of\", last_six_champs))\n",
    "graph.create(Relationship(San_Antonio_Spurs,\"2014_championship_of\", last_six_champs))\n",
    "graph.create(Relationship(Toronto_Raptors, \"2019_championship_of\", last_six_champs))\n",
    "graph.create(Relationship(Golden_State_Warriors, \"2015,2017,2018_championships_of\", last_six_champs))\n",
    "graph.create(Relationship(Los_Angel_Lakers, \"2020_championship_of\", last_six_champs))\n",
    "\n",
    "graph.create(Relationship(Golden_State_Warriors, \"beated in 2015,2017 and 2018\", Cleveland_Cavaliers))\n",
    "graph.create(Relationship(Cleveland_Cavaliers, \"beated in 2016\", Golden_State_Warriors))\n",
    "graph.create(Relationship(Toronto_Raptors, \"beated in 2019\", Golden_State_Warriors))"
   ]
  },
  {
   "cell_type": "markdown",
   "metadata": {},
   "source": [
    "<img src=\"./g.png\" width=800 heigth=240>"
   ]
  },
  {
   "cell_type": "markdown",
   "metadata": {},
   "source": [
    "### Executing queries"
   ]
  },
  {
   "cell_type": "markdown",
   "metadata": {},
   "source": [
    "1. Which team has the most number of championships"
   ]
  },
  {
   "cell_type": "code",
   "execution_count": 11,
   "metadata": {},
   "outputs": [
    {
     "name": "stdout",
     "output_type": "stream",
     "text": [
      "'LA Lakers'\t17\n"
     ]
    }
   ],
   "source": [
    "\n",
    "query = \"\"\"\n",
    "MATCH (a:Team)\n",
    "WITH a\n",
    "ORDER BY a.n_of_champs DESC LIMIT 1\n",
    "RETURN a.name,a.n_of_champs\n",
    "\"\"\"\n",
    "\n",
    "data = graph.run(query)\n",
    "\n",
    "for d in data:\n",
    "    print(d)"
   ]
  },
  {
   "cell_type": "markdown",
   "metadata": {},
   "source": [
    "2. Average salary of coach"
   ]
  },
  {
   "cell_type": "code",
   "execution_count": 12,
   "metadata": {},
   "outputs": [
    {
     "name": "stdout",
     "output_type": "stream",
     "text": [
      "6100000.0\n"
     ]
    }
   ],
   "source": [
    "query = \"\"\"\n",
    "MATCH (b:Coach)\n",
    "RETURN avg(b.salary)\n",
    "\"\"\"\n",
    "\n",
    "data = graph.run(query)\n",
    "\n",
    "for d in data:\n",
    "    print(d)"
   ]
  },
  {
   "cell_type": "markdown",
   "metadata": {},
   "source": [
    "3. Who has the highest FGP in this season"
   ]
  },
  {
   "cell_type": "code",
   "execution_count": 13,
   "metadata": {},
   "outputs": [
    {
     "name": "stdout",
     "output_type": "stream",
     "text": [
      "'Jarrett Allen'\t66.3\n"
     ]
    }
   ],
   "source": [
    "query = \"\"\"\n",
    "MATCH (c:Player)\n",
    "WITH c\n",
    "ORDER BY c.FGP DESC LIMIT 1\n",
    "RETURN c.name,c.FGP\n",
    "\"\"\"\n",
    "\n",
    "data = graph.run(query)\n",
    "\n",
    "for d in data:\n",
    "    print(d)"
   ]
  },
  {
   "cell_type": "markdown",
   "metadata": {},
   "source": [
    "4. Who is the youngest player drafted"
   ]
  },
  {
   "cell_type": "code",
   "execution_count": 14,
   "metadata": {},
   "outputs": [
    {
     "name": "stdout",
     "output_type": "stream",
     "text": [
      "'LeBron James'\t18\n"
     ]
    }
   ],
   "source": [
    "query = \"\"\"\n",
    "MATCH (d:Player)\n",
    "CALL{\n",
    "    WITH d\n",
    "    RETURN d.age-(2021 - d.year_drafted) as age_drafted\n",
    "    }\n",
    "RETURN d.name,age_drafted\n",
    "ORDER BY age_drafted ASC LIMIT 1\n",
    "\"\"\"\n",
    "data = graph.run(query)\n",
    "\n",
    "for d in data:\n",
    "    print(d)"
   ]
  },
  {
   "cell_type": "markdown",
   "metadata": {},
   "source": [
    "5. Coach contribution by ws and ls ratio"
   ]
  },
  {
   "cell_type": "code",
   "execution_count": 15,
   "metadata": {},
   "outputs": [
    {
     "name": "stdout",
     "output_type": "stream",
     "text": [
      "'Frank Vogel'\t0.7395833333333334\n"
     ]
    }
   ],
   "source": [
    "query = \"\"\"\n",
    "MATCH (e:Coach)\n",
    "RETURN e.name,e.w_l\n",
    "ORDER BY e.w_l DESC LIMIT 1\n",
    "\"\"\"\n",
    "\n",
    "data = graph.run(query)\n",
    "\n",
    "for d in data:\n",
    "    print(d)"
   ]
  }
 ],
 "metadata": {
  "kernelspec": {
   "display_name": "Python 3",
   "language": "python",
   "name": "python3"
  },
  "language_info": {
   "codemirror_mode": {
    "name": "ipython",
    "version": 3
   },
   "file_extension": ".py",
   "mimetype": "text/x-python",
   "name": "python",
   "nbconvert_exporter": "python",
   "pygments_lexer": "ipython3",
   "version": "3.6.13"
  }
 },
 "nbformat": 4,
 "nbformat_minor": 4
}
